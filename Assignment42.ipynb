{
 "cells": [
  {
   "cell_type": "markdown",
   "id": "4fc331e1",
   "metadata": {},
   "source": [
    "# Q1. What is Elastic Net Regression and how does it differ from other regression techniques?"
   ]
  },
  {
   "cell_type": "markdown",
   "id": "66d2b98d",
   "metadata": {},
   "source": [
    "# ans.. elastic net regression is the ccombination of ridge and lasso regression\n"
   ]
  },
  {
   "cell_type": "markdown",
   "id": "6034e880",
   "metadata": {},
   "source": [
    "# Q2. How do you choose the optimal values of the regularization parameters for Elastic Net Regression?"
   ]
  },
  {
   "cell_type": "markdown",
   "id": "2c5ee9a7",
   "metadata": {},
   "source": [
    "# ans.. the incresse the value of lambda the elastic net redige regression is better perform \n"
   ]
  },
  {
   "cell_type": "markdown",
   "id": "e2ec9ccf",
   "metadata": {},
   "source": [
    "# Q3. What are the advantages and disadvantages of Elastic Net Regression?"
   ]
  },
  {
   "cell_type": "markdown",
   "id": "8709ac8d",
   "metadata": {},
   "source": [
    "#  elastic net regession is handal the out liers  and worke the many algo. many time  elastic net is not work the properli\n"
   ]
  },
  {
   "cell_type": "markdown",
   "id": "9edf9119",
   "metadata": {},
   "source": [
    "# Q4. What are some common use cases for Elastic Net Regression?"
   ]
  },
  {
   "cell_type": "markdown",
   "id": "aba32352",
   "metadata": {},
   "source": [
    "# Elastic net linear regression uses the penalties from both the lasso and ridge techniques to regularize regression models"
   ]
  },
  {
   "cell_type": "markdown",
   "id": "85d63964",
   "metadata": {},
   "source": [
    "# Q5. How do you interpret the coefficients in Elastic Net Regression?"
   ]
  },
  {
   "cell_type": "markdown",
   "id": "32434cf3",
   "metadata": {},
   "source": [
    "#  the larger the  absolute value of a cofficient the stronger the effect of the corresponding feature on the target variable "
   ]
  },
  {
   "cell_type": "markdown",
   "id": "37c18108",
   "metadata": {},
   "source": [
    "# Q6. How do you handle missing values when using Elastic Net Regression?"
   ]
  },
  {
   "cell_type": "markdown",
   "id": "27a97117",
   "metadata": {},
   "source": [
    "# ans. the elastic net regression is not be zero so the missing value no effect of the model"
   ]
  },
  {
   "cell_type": "markdown",
   "id": "9741bf52",
   "metadata": {},
   "source": [
    "# Q7. How do you use Elastic Net Regression for feature selection?"
   ]
  },
  {
   "cell_type": "markdown",
   "id": "58ca1969",
   "metadata": {},
   "source": [
    "#  ans.. elastic net regession is use the corr() the elastic net regression is map the corr() of every feature so the both feature maximum so the 1 feature are delet."
   ]
  },
  {
   "cell_type": "markdown",
   "id": "2eaa85ac",
   "metadata": {},
   "source": [
    "# Q8. How do you pickle and unpickle a trained Elastic Net Regression model in Python?"
   ]
  },
  {
   "cell_type": "markdown",
   "id": "e51545d4",
   "metadata": {},
   "source": [
    "# pickle is the libary is use the  model conver the file and any other application read the file .."
   ]
  },
  {
   "cell_type": "markdown",
   "id": "db70d069",
   "metadata": {},
   "source": [
    "# Q9. What is the purpose of pickling a model in machine learning?"
   ]
  },
  {
   "cell_type": "markdown",
   "id": "98ebbf19",
   "metadata": {},
   "source": [
    "# ans.. first import the pickle and pickle is convert the model to file ."
   ]
  },
  {
   "cell_type": "code",
   "execution_count": null,
   "id": "fcc06631",
   "metadata": {},
   "outputs": [],
   "source": []
  }
 ],
 "metadata": {
  "kernelspec": {
   "display_name": "Python 3 (ipykernel)",
   "language": "python",
   "name": "python3"
  },
  "language_info": {
   "codemirror_mode": {
    "name": "ipython",
    "version": 3
   },
   "file_extension": ".py",
   "mimetype": "text/x-python",
   "name": "python",
   "nbconvert_exporter": "python",
   "pygments_lexer": "ipython3",
   "version": "3.10.9"
  }
 },
 "nbformat": 4,
 "nbformat_minor": 5
}
